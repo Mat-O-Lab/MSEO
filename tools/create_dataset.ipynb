{
  "cells": [
    {
      "cell_type": "code",
      "execution_count": null,
      "metadata": {
        "cellView": "form",
        "id": "rk6Q4WPI1bFz"
      },
      "outputs": [],
      "source": [
        "#@title Imports and code functions\n",
        "import requests\n",
        "import json\n",
        "from urllib.parse import urlparse, urljoin\n",
        "import os\n",
        "from getpass import getpass\n",
        "\n",
        "\n",
        "\n",
        "ckan_url='http://ckan.kupferdigital.org'\n",
        "csvtocsvw_url='https://csvtocsvw.matolab.org'\n",
        "maptomethod_url='https://maptomethod.matolab.org'\n",
        "rdfconverter_url='https://rdfconverter.matolab.org'\n",
        "\n",
        "ORG = 'fem'\n",
        "\n",
        "#USER=os.getenv('USER','')\n",
        "API_KEY=getpass('Enter ckan api-key here')\n",
        "\n",
        "s_ckan= requests.Session()\n",
        "s_ckan.headers.update({\"X-CKAN-API-Key\": API_KEY})\n",
        "\n",
        "#print(USER,API_KEY)\n",
        "\n",
        "def post_request(url, headers, data, files=None):\n",
        "    try:\n",
        "        if files:\n",
        "            # should crate a multipart form upload\n",
        "            response = requests.post(url, data=data, headers=headers, files=files)\n",
        "        else:\n",
        "            # a application json post request\n",
        "            response = requests.post(url, data=json.dumps(data), headers=headers)\n",
        "        response.raise_for_status()\n",
        "        \n",
        "    except requests.exceptions.RequestException as e:\n",
        "        #placeholder for save file / clean-up\n",
        "        raise SystemExit(e) from None\n",
        "    return response\n",
        "\n",
        "def expand_url(url):\n",
        "    p_url = urlparse(url)\n",
        "    if not p_url.scheme in ['https', 'http']:\n",
        "        #relative url?\n",
        "        p_url=urljoin(ckan_url, p_url.path)\n",
        "        return p_url\n",
        "    else:\n",
        "        return p_url.path.geturl()\n",
        "\n",
        "def annotate_csv(csv_url: str, separator: str='auto', header_separator: str='auto', encoding: str='auto',):\n",
        "    ## curl -X 'POST' \\ 'https://csvtocsvw.matolab.org/api/annotation' \\ -H 'accept: application/json' \\ -H 'Content-Type: application/json' \\ -d '{ \"data_url\": \"https://github.com/Mat-O-Lab/CSVToCSVW/raw/main/examples/example.csv\", \"separator\": \"auto\", \"header_separator\": \"auto\", \"encoding\": \"auto\" }'\n",
        "    url = csvtocsvw_url+\"/api/annotation\"\n",
        "    data = { \n",
        "        \"data_url\": data_url, \n",
        "        \"separator\": separator, \n",
        "        \"header_separator\": header_separator, \n",
        "        \"encoding\": encoding\n",
        "    }\n",
        "    headers = {'Content-type': 'application/json', 'Accept': 'application/json'}\n",
        "    r = post_request(url, headers, data).json()\n",
        "    metafilename=filename.rsplit('.')[0]+'-metadata.json'\n",
        "    file=json.dumps(r['filedata']).encode('utf-8')\n",
        "    print('csvw annotation file created, suggested name: {}'.format(metafilename))\n",
        "    return metafilename, file\n",
        "    \n",
        "def transform_csv(metadata_url: str):\n",
        "    ## curl -X 'POST' \\ 'https://csvtocsvw.matolab.org/api/annotation' \\ -H 'accept: application/json' \\ -H 'Content-Type: application/json' \\ -d '{ \"data_url\": \"https://github.com/Mat-O-Lab/CSVToCSVW/raw/main/examples/example.csv\", \"separator\": \"auto\", \"header_separator\": \"auto\", \"encoding\": \"auto\" }'\n",
        "    url = csvtocsvw_url+\"/api/rdf\"\n",
        "    data = { \n",
        "        \"metadata_url\": metadata_url,\n",
        "    }\n",
        "    headers = {'Content-type': 'application/json', 'Accept': 'application/json'}\n",
        "    #returns file object\n",
        "    r = post_request(url, headers, data)\n",
        "    rdffilename=filename.rsplit('.')[0]+'.ttl'\n",
        "    print('csv rdf file created, suggested name: {}'.format(rdffilename))\n",
        "    return rdffilename, r.content\n",
        "    \n",
        "def create_rdf(mapping_url: str, metadata_url: str=''):\n",
        "    ## curl -X 'POST' \\ 'https://csvtocsvw.matolab.org/api/annotation' \\ -H 'accept: application/json' \\ -H 'Content-Type: application/json' \\ -d '{ \"data_url\": \"https://github.com/Mat-O-Lab/CSVToCSVW/raw/main/examples/example.csv\", \"separator\": \"auto\", \"header_separator\": \"auto\", \"encoding\": \"auto\" }'\n",
        "    url = rdfconverter_url+\"/api/createrdf\"\n",
        "    if metadata_url:\n",
        "        print('using {} instead or data: in mapping'.format(metadata_url))\n",
        "    data = { \n",
        "        \"mapping_url\": mapping_url,\n",
        "        \"data_url\": metadata_url\n",
        "    }\n",
        "    headers = {'Content-type': 'application/json', 'Accept': 'application/json'}\n",
        "    r = post_request(url, headers, data).json()\n",
        "    num_applied=r[\"num_mappings_applied\"]\n",
        "    num_skipped=r[\"num_mappings_skipped\"]\n",
        "    rdfdata=r['graph']\n",
        "    print('rdf file created, applied {} rules, skipped {}'.format(num_applied,num_skipped))\n",
        "    return rdfdata, num_applied, num_skipped\n",
        "\n",
        "def ckan_api_get(url,params={}):\n",
        "    p_url=expand_url(url)\n",
        "    try:\n",
        "        response = s_ckan.get(p_url,params=params)\n",
        "        response.raise_for_status()\n",
        "        r = response.json()\n",
        "    except requests.exceptions.RequestException as e:\n",
        "        #placeholder for save file / clean-up\n",
        "        raise SystemExit(e) from None\n",
        "    return r\n",
        "\n",
        "from io import BytesIO\n",
        "\n",
        "def ckan_file_upload(dataset_id, filename, filedata, format='', group=None):\n",
        "    url=ckan_url+'/api/action/resource_create'\n",
        "    data_stream=BytesIO(filedata)\n",
        "    # or resource_update\n",
        "    data={\n",
        "        \"package_id\": dataset_id,\n",
        "        \"name\": filename,\n",
        "        \"format\": format\n",
        "    }\n",
        "    files=[('upload', data_stream)]\n",
        "    resource=s_ckan.post(url, data=data, files=files).json()['result']\n",
        "    print('file {} uploaded at: {}'.format(filename, resource['url']))\n",
        "    return resource\n",
        "\n",
        "def ckan_link_ressource(dataset_id, ressource_name, ressource_url, format='', group=None):\n",
        "    url=ckan_url+'/api/action/resource_create'\n",
        "    # or resource_update\n",
        "    data={\n",
        "        \"package_id\": dataset_id,\n",
        "        \"name\": ressource_name,\n",
        "        \"url\": ressource_url,\n",
        "        \"format\": format\n",
        "    }\n",
        "    resource=s_ckan.post(url, data=data).json()['result']\n",
        "    print('ressource {} linked at: {}'.format(ressource_name, resource['url']))\n",
        "    return resource\n",
        "\n",
        "# def get_api_tokens():\n",
        "#     response=requests.post(ckan_url+'/api/action/api_token_list',data={'user': USER},headers={\"X-CKAN-API-Key\": API_KEY})\n",
        "#     #return first token\n",
        "#     return response.json()['result']\n",
        "\n",
        "def get_groups():\n",
        "    r_groups=ckan_api_get('/api/action/group_list',params={'all_fields': True})['result']\n",
        "    return {item['name']: item  for item in r_groups}\n",
        "\n",
        "#requests.post(ckan_url+'/api/action/package_create',data={'name': 'test2','private': True,'owner_org': ORG} ,headers={'X-CKAN-API-Key': API_KEY})\n",
        "def ckan_get_create_dataset(name: str, groups: list=[], owner_org: str='IWM'):\n",
        "    r=s_ckan.post(ckan_url+'/api/action/package_search',data={'q': 'name:{}'.format(name)})\n",
        "    results_list=r.json()['result']['results']\n",
        "    #print(results_list)\n",
        "    if results_list:\n",
        "        #return first hit\n",
        "        print('dataset exist, returning first found')\n",
        "        return results_list[0]\n",
        "    else:\n",
        "        #create package\n",
        "        url=ckan_url+'/api/action/package_create'\n",
        "        # or resource_update\n",
        "        groups_dict=[GROUPS[item] for item in groups]\n",
        "        data={\n",
        "            \"name\": name,\n",
        "            \"owner_org\": owner_org,\n",
        "            \"groups\": groups_dict,\n",
        "            \"private\": False\n",
        "            }\n",
        "        #print(url, data)\n",
        "        r=s_ckan.post(url, json=data)\n",
        "        dataset=r.json()['result']\n",
        "        print(\"dataset created\")\n",
        "        return dataset\n",
        "\n",
        "def remove_dataset(id):\n",
        "    r=s_ckan.post(ckan_url+'/api/action/package_delete',data={\"id\": id})\n",
        "    if r.json()['success']:\n",
        "        print('dataset deleted')\n",
        "    return True\n",
        "GROUPS=get_groups()\n",
        "if GROUPS:\n",
        "  print('connection to ckan established')\n",
        "  print('available dataset groups are: {}'.format(GROUPS.keys()))\n"
      ]
    },
    {
      "cell_type": "code",
      "source": [
        "# required inputs\n",
        "data_url='https://gitlab.com/kupferdigital/process-graphs/energy-dispersive-x-ray-analysis-fem/-/raw/main/KupferDigital_7F21109_ID3243_Pos._a_EDX_data.txt'\n",
        "method_url='https://kupferdigital.gitlab.io/process-graphs/energy-dispersive-x-ray-analysis-fem/index.ttl'\n",
        "mapping_url='https://gitlab.com/kupferdigital/process-graphs/energy-dispersive-x-ray-analysis-fem/-/raw/main/KupferDigital_7F21109_ID3243_Pos._a_EDX_data-map.yaml'\n",
        "\n",
        "#ckan dataset names\n",
        "method_name='energy-dispersive-x-ray-analysis-fem'\n",
        "datasetname=method_name+\"-example\"\n",
        "mapping_name=method_name+\"-mapping\"\n",
        "rdf_name=method_name+\"-dataset\"\n"
      ],
      "metadata": {
        "id": "iEmONCVNDRB6"
      },
      "execution_count": 28,
      "outputs": []
    },
    {
      "cell_type": "code",
      "execution_count": null,
      "metadata": {
        "id": "seO5bB8F1bF4"
      },
      "outputs": [],
      "source": [
        "#get or create dataset with name\n",
        "dataset=ckan_get_create_dataset(datasetname,groups=['machine-files'],owner_org=ORG)\n",
        "#upload csv file\n",
        "csv_file=requests.get(data_url).content\n",
        "filename=data_url.rsplit('/')[-1]\n",
        "csv_resource=ckan_file_upload(dataset['id'], filename, csv_file, format='csv')"
      ]
    },
    {
      "cell_type": "code",
      "execution_count": null,
      "metadata": {
        "id": "ZJRiAEIP1bF5"
      },
      "outputs": [],
      "source": [
        "# generated csvw meta data\n",
        "data_url=csv_resource['url']\n",
        "filename, filedata=annotate_csv(csv_resource['url'])\n",
        "csvw_resource=ckan_file_upload(dataset['id'], filename, filedata, format='json-ld')\n",
        "#print(json.dumps(filedata, indent=4))"
      ]
    },
    {
      "cell_type": "code",
      "execution_count": null,
      "metadata": {
        "id": "i5N3mDoZ1bF5"
      },
      "outputs": [],
      "source": [
        "# generated csv rdf data\n",
        "filename, file =transform_csv(csvw_resource['url'])\n",
        "csvrdf_resource=ckan_file_upload(dataset['id'], filename, file, format='turtle')"
      ]
    },
    {
      "cell_type": "code",
      "execution_count": null,
      "metadata": {
        "id": "JgHu5VCd1bF5"
      },
      "outputs": [],
      "source": [
        "#link method graph\n",
        "method=ckan_get_create_dataset(method_name,groups=['process-graphs'],owner_org=ORG)\n",
        "csvrdf_resource=ckan_link_ressource(method['id'], method_name, method_url, format='turtle')"
      ]
    },
    {
      "cell_type": "code",
      "execution_count": null,
      "metadata": {
        "id": "bTGb8UrS1bF6"
      },
      "outputs": [],
      "source": [
        "#link mapping graph\n",
        "mapping=ckan_get_create_dataset(mapping_name,groups=['process-graph-mappings'],owner_org=ORG)\n",
        "csvrdf_resource=ckan_link_ressource(mapping['id'], mapping_name, mapping_url, format='yaml')"
      ]
    },
    {
      "cell_type": "code",
      "execution_count": null,
      "metadata": {
        "id": "YNg7T9OM1bF6"
      },
      "outputs": [],
      "source": [
        "#create rdf graph\n",
        "print(mapping_url,csvw_resource['url'])\n",
        "rdf, num_applied, num_skipped=create_rdf(mapping_url, csvw_resource['url'])\n",
        "filename=datasetname+'.ttl'\n",
        "rdf_dataset=ckan_get_create_dataset(rdf_name,groups=['mapping-results'],owner_org=ORG)\n",
        "rdf_resource=ckan_file_upload(rdf_dataset['id'], filename, rdf.encode('utf-8'), format='turtle')\n"
      ]
    },
    {
      "cell_type": "code",
      "execution_count": null,
      "metadata": {
        "id": "GHr-Utav1bF7"
      },
      "outputs": [],
      "source": [
        "# delete datasets cleanup\n",
        "dataset=ckan_get_create_dataset(datasetname,groups=['machine-files'], owner_org=ORG)\n",
        "rdf_dataset=ckan_get_create_dataset(rdf_name,groups=['mapping-results'],owner_org=ORG)\n",
        "mapping=ckan_get_create_dataset(mapping_name,groups=['process-graph-mappings'],owner_org=ORG)\n",
        "method=ckan_get_create_dataset(method_name,groups=['process-graphs'],owner_org=ORG)\n",
        "remove_dataset(dataset['id'])\n",
        "remove_dataset(rdf_dataset['id'])\n",
        "remove_dataset(mapping['id'])\n",
        "remove_dataset(method['id'])\n"
      ]
    },
    {
      "cell_type": "code",
      "execution_count": null,
      "metadata": {
        "id": "z6Y1EOvm1bF7"
      },
      "outputs": [],
      "source": []
    }
  ],
  "metadata": {
    "interpreter": {
      "hash": "d9ed2dbf4a5efead5aaafaed529fe88a2f986eec654f006f07f62346ca0788f3"
    },
    "kernelspec": {
      "display_name": "Python 3.10.8 64-bit ('py10': conda)",
      "language": "python",
      "name": "python3"
    },
    "language_info": {
      "codemirror_mode": {
        "name": "ipython",
        "version": 3
      },
      "file_extension": ".py",
      "mimetype": "text/x-python",
      "name": "python",
      "nbconvert_exporter": "python",
      "pygments_lexer": "ipython3",
      "version": "3.8.3"
    },
    "orig_nbformat": 4,
    "colab": {
      "provenance": []
    }
  },
  "nbformat": 4,
  "nbformat_minor": 0
}